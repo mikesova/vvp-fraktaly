{
 "cells": [
  {
   "cell_type": "markdown",
   "id": "5d83d2aa",
   "metadata": {},
   "source": [
    "# Vizualizace fraktálů\n",
    "Příklad spuštění interaktivní vizualizace Mandelbrotovy a Juliovy množiny pomocí funkce `plot_fractal()` z vlastní knihovny."
   ]
  },
  {
   "cell_type": "code",
   "execution_count": 1,
   "id": "03e86322",
   "metadata": {},
   "outputs": [],
   "source": [
    "from fractals_lib.view import plot_fractal\n",
    "import matplotlib"
   ]
  },
  {
   "cell_type": "code",
   "execution_count": 2,
   "id": "03b68ba1",
   "metadata": {},
   "outputs": [],
   "source": [
    "# Aktivace interaktivního okna s GUI pomocí Tkinteru\n",
    "matplotlib.use('TkAgg')\n",
    "\n",
    "\n",
    "# Spuštění vizualizace\n",
    "plot_fractal()"
   ]
  }
 ],
 "metadata": {
  "kernelspec": {
   "display_name": "base",
   "language": "python",
   "name": "python3"
  },
  "language_info": {
   "codemirror_mode": {
    "name": "ipython",
    "version": 3
   },
   "file_extension": ".py",
   "mimetype": "text/x-python",
   "name": "python",
   "nbconvert_exporter": "python",
   "pygments_lexer": "ipython3",
   "version": "3.12.9"
  }
 },
 "nbformat": 4,
 "nbformat_minor": 5
}
